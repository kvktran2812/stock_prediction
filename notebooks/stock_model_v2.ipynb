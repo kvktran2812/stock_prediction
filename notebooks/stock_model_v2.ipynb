{
 "cells": [
  {
   "cell_type": "code",
   "execution_count": 1,
   "id": "177ea073-332c-4889-8540-a1cc761e28d3",
   "metadata": {},
   "outputs": [],
   "source": [
    "import pandas as pd\n",
    "import numpy as np\n",
    "import yfinance as yf\n",
    "import matplotlib.pyplot as plt\n",
    "import seaborn as sns\n",
    "import torch\n",
    "import torch.nn as nn\n",
    "from torch.utils.data import DataLoader, Dataset\n",
    "from sklearn.preprocessing import MinMaxScaler\n",
    "from stock import *\n",
    "from sklearn.metrics import mean_absolute_error, mean_squared_error\n",
    "\n",
    "import mplfinance as mpf"
   ]
  },
  {
   "cell_type": "code",
   "execution_count": 10,
   "id": "ee3475a1-c3bf-4d39-b130-9b7e9d993394",
   "metadata": {},
   "outputs": [],
   "source": [
    "class StockModel(nn.Module):\n",
    "    def __init__(self, input_size=5, hidden_size=64, num_layers=2, output_size=4, n_futures=8):\n",
    "        super(StockModel, self).__init__()\n",
    "        self.lstm = nn.LSTM(input_size, hidden_size, num_layers, batch_first=True)\n",
    "        self.fc1 = nn.Linear(hidden_size, 32)\n",
    "        self.relu = nn.ReLU()\n",
    "        self.fc2 = nn.Linear(32, 32)\n",
    "        self.fc3 = nn.Linear(32, output_size * n_futures)\n",
    "    \n",
    "    def forward(self, x):\n",
    "        x, _ = self.lstm(x)\n",
    "        x = x[:, -1, :]\n",
    "        x = self.fc1(x)\n",
    "        x = self.relu(x)\n",
    "        x = self.fc2(x)\n",
    "        x = self.relu(x)\n",
    "        x = self.fc3(x)\n",
    "        x = x.view(-1, n_futures, output_size)\n",
    "        return x\n",
    "\n",
    "model = StockModel()"
   ]
  },
  {
   "cell_type": "code",
   "execution_count": 11,
   "id": "278e7855-22a8-4ca1-b942-12681ae883d9",
   "metadata": {},
   "outputs": [],
   "source": [
    "input_size=5\n",
    "hidden_size=64\n",
    "num_layers=1\n",
    "output_size=4\n",
    "n_futures=8"
   ]
  },
  {
   "cell_type": "code",
   "execution_count": 12,
   "id": "0ae0be9f-b5a4-4546-a8ec-23febbb1940f",
   "metadata": {},
   "outputs": [],
   "source": [
    "def process_data(data, n_windows: int = 64, n_futures = 1):\n",
    "    n_columns = len(data[0])\n",
    "    size = len(data)\n",
    "    \n",
    "    X = np.zeros((size - n_windows, n_windows, n_columns))\n",
    "    y = np.zeros((size - n_windows, n_futures, n_columns - 1))\n",
    "    \n",
    "    for i in range(size - n_windows - n_futures):\n",
    "        X[i] = data[i : i + n_windows]\n",
    "        y[i] = data[i + n_windows : i + n_windows + n_futures, 0: n_columns - 1]\n",
    "\n",
    "    return X, y"
   ]
  },
  {
   "cell_type": "code",
   "execution_count": 13,
   "id": "c24657ea-cfe5-4296-a7d9-81fa12bde54c",
   "metadata": {},
   "outputs": [],
   "source": [
    "data = load_raw_stock_data(\"AAPL\")\n",
    "data = data.pct_change()\n",
    "data = data.dropna()\n",
    "data = data.to_numpy()"
   ]
  },
  {
   "cell_type": "code",
   "execution_count": 14,
   "id": "6a59bfcf-3ac4-4148-a7f2-4463b213f183",
   "metadata": {},
   "outputs": [],
   "source": [
    "X, y = process_data(data, n_futures=8)\n",
    "batch_size = 64\n",
    "\n",
    "dataset = StockDataset(X, y)\n",
    "train_dataset, test_dataset = torch.utils.data.random_split(dataset, [0.8, 1 - 0.8])\n",
    "train_loader = DataLoader(train_dataset, batch_size=batch_size, shuffle=True)\n",
    "test_loader = DataLoader(test_dataset, batch_size=batch_size, shuffle=False)"
   ]
  },
  {
   "cell_type": "code",
   "execution_count": 15,
   "id": "656b0c54-0ab2-466a-be7f-87e9f224f5d3",
   "metadata": {},
   "outputs": [],
   "source": [
    "criterion = nn.MSELoss()\n",
    "optimizer = torch.optim.Adam(model.parameters(), lr=0.0005)"
   ]
  },
  {
   "cell_type": "code",
   "execution_count": 16,
   "id": "23aa6660-43ec-4009-9cdb-3cfc69f787a7",
   "metadata": {},
   "outputs": [
    {
     "name": "stdout",
     "output_type": "stream",
     "text": [
      "EPOCH 1/50: Loss - 0.0036147888\n",
      "EPOCH 11/50: Loss - 0.0007136782\n",
      "EPOCH 21/50: Loss - 0.0007038890\n",
      "EPOCH 31/50: Loss - 0.0006914801\n",
      "EPOCH 41/50: Loss - 0.0006894955\n"
     ]
    }
   ],
   "source": [
    "n_epochs = 50\n",
    "model.train()\n",
    "\n",
    "for epoch in range(n_epochs):\n",
    "    epoch_loss = 0\n",
    "    for inputs, labels in train_loader:\n",
    "        optimizer.zero_grad()\n",
    "        outputs = model(inputs)\n",
    "        loss = criterion(outputs, labels)\n",
    "        loss.backward()\n",
    "        optimizer.step()\n",
    "        epoch_loss += loss.item()\n",
    "    if epoch % 10 == 0:\n",
    "        print(f\"EPOCH {epoch+1}/{n_epochs}: Loss - {epoch_loss/ len(train_loader):.10f}\")"
   ]
  },
  {
   "cell_type": "code",
   "execution_count": 45,
   "id": "e9e9b699-a5d0-4932-add9-187bcf89ec9b",
   "metadata": {},
   "outputs": [],
   "source": [
    "raw_data = load_raw_stock_data(\"AAPL\").to_numpy()\n",
    "raw_data = raw_data[-200:-200+64]\n",
    "raw_data = raw_data.reshape(1, 64, 5)\n",
    "\n",
    "x = torch.tensor(raw_data, dtype=torch.float32)\n",
    "y_test = model(x).detach().numpy()\n",
    "\n",
    "y_pred = np.zeros((64 + 8, 4))\n",
    "raw_data = raw_data.reshape(64, 5)\n",
    "\n",
    "for i in range(64):\n",
    "    y_pred[i] = raw_data[i][:4]\n",
    "\n",
    "y_test = y_test.reshape(8, 4)\n",
    "\n",
    "for i in range(8):\n",
    "    for j in range(4):\n",
    "        y_pred[i+64][j] = y_pred[i + 64 - 1][j] + (y_test[i][j] * y_pred[i+64-1][j])"
   ]
  },
  {
   "cell_type": "code",
   "execution_count": 46,
   "id": "52acdebc-5092-47e0-a530-a81e1af372d0",
   "metadata": {},
   "outputs": [
    {
     "data": {
      "text/plain": [
       "<Figure size 600x600 with 0 Axes>"
      ]
     },
     "metadata": {},
     "output_type": "display_data"
    },
    {
     "data": {
      "image/png": "[encoded data removed]",
      "text/plain": [
       "<Figure size 800x575 with 2 Axes>"
      ]
     },
     "metadata": {},
     "output_type": "display_data"
    }
   ],
   "source": [
    "df = pd.DataFrame(y_pred, columns=['Open', 'High', 'Low', 'Close'])\n",
    "df.index = pd.date_range(\"2023-01-01\", periods=len(df), freq=\"D\")\n",
    "\n",
    "plt.figure(figsize=(6,6))\n",
    "\n",
    "mpf.plot(\n",
    "    df,\n",
    "    type='candle',\n",
    "    style='charles',\n",
    "    title=\"Candlestick Chart\",\n",
    "    ylabel=\"Price ($)\",\n",
    "    datetime_format='',\n",
    "    # addplot=mpf.make_addplot(ohlc_data['Close'], color='blue', linestyle='--'),\n",
    "    volume=False\n",
    ")"
   ]
  },
  {
   "cell_type": "markdown",
   "id": "90f8e23f-c4a8-4d66-a9cb-72b7012b6db0",
   "metadata": {},
   "source": [
    "## Conclusion\n",
    "\n",
    "As you can see the prediction get affected heavily because of the noise"
   ]
  },
  {
   "cell_type": "code",
   "execution_count": null,
   "id": "d7397bc3-031a-4f4f-9583-cd932bbb3f9b",
   "metadata": {},
   "outputs": [],
   "source": []
  }
 ],
 "metadata": {
  "kernelspec": {
   "display_name": "Python 3 (ipykernel)",
   "language": "python",
   "name": "python3"
  },
  "language_info": {
   "codemirror_mode": {
    "name": "ipython",
    "version": 3
   },
   "file_extension": ".py",
   "mimetype": "text/x-python",
   "name": "python",
   "nbconvert_exporter": "python",
   "pygments_lexer": "ipython3",
   "version": "3.11.7"
  }
 },
 "nbformat": 4,
 "nbformat_minor": 5
}
