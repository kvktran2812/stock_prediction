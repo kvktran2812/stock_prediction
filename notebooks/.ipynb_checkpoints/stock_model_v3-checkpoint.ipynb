{
 "cells": [
  {
   "cell_type": "code",
   "execution_count": 1,
   "id": "b4d41099-4bb8-42a9-93e4-0b07a0ec0f99",
   "metadata": {},
   "outputs": [],
   "source": [
    "import pandas as pd\n",
    "import numpy as np\n",
    "import yfinance as yf\n",
    "import matplotlib.pyplot as plt\n",
    "import seaborn as sns\n",
    "import torch\n",
    "import torch.nn as nn\n",
    "from torch.utils.data import DataLoader, Dataset\n",
    "from sklearn.preprocessing import MinMaxScaler\n",
    "from stock import *\n",
    "from sklearn.metrics import mean_absolute_error, mean_squared_error\n",
    "\n",
    "import mplfinance as mpf"
   ]
  },
  {
   "cell_type": "code",
   "execution_count": 2,
   "id": "7a96a45d-2636-42a5-a0a6-8d7b038bca33",
   "metadata": {},
   "outputs": [
    {
     "name": "stdout",
     "output_type": "stream",
     "text": [
      "StockModel(\n",
      "  (lstm): LSTM(5, 64, batch_first=True)\n",
      "  (relu): ReLU()\n",
      "  (fc1): Linear(in_features=64, out_features=64, bias=True)\n",
      "  (fc2): Linear(in_features=64, out_features=64, bias=True)\n",
      "  (fc3): Linear(in_features=64, out_features=64, bias=True)\n",
      "  (fc4): Linear(in_features=64, out_features=8, bias=True)\n",
      ")\n"
     ]
    }
   ],
   "source": [
    "class StockModel(nn.Module):\n",
    "    n_features = 5\n",
    "    n_layers = 1\n",
    "    \n",
    "    def __init__(self, n_windows: int = 64, output_size: int = 8):\n",
    "        super(StockModel, self).__init__()\n",
    "        self.lstm = nn.LSTM(self.n_features, n_windows, self.n_layers, batch_first=True)\n",
    "        self.relu = nn.ReLU()\n",
    "        self.fc1 = nn.Linear(n_windows, n_windows)\n",
    "        self.fc2 = nn.Linear(n_windows, n_windows)\n",
    "        self.fc3 = nn.Linear(n_windows, n_windows)\n",
    "        self.fc4 = nn.Linear(n_windows, output_size)\n",
    "\n",
    "    def forward(self, x):\n",
    "        x, _ = self.lstm(x)\n",
    "        x = x[:, -1, :]\n",
    "        x = self.fc1(x)\n",
    "        x = self.relu(x)\n",
    "        x = self.fc2(x)\n",
    "        x = self.relu(x)\n",
    "        x = self.fc3(x)\n",
    "        x = self.relu(x)\n",
    "        x = self.fc4(x)\n",
    "        return x\n",
    "\n",
    "model = StockModel()\n",
    "print(model)"
   ]
  },
  {
   "cell_type": "code",
   "execution_count": 3,
   "id": "7ecf7204-9196-482c-8b81-88a0a5e5daf3",
   "metadata": {},
   "outputs": [
    {
     "name": "stdout",
     "output_type": "stream",
     "text": [
      "(9751, 5)\n",
      "(9751, 5)\n"
     ]
    }
   ],
   "source": [
    "ticker = yf.Ticker(\"MSFT\")\n",
    "raw_data = ticker.history(interval=\"1d\", period=\"max\")\n",
    "raw_data = raw_data.reset_index()\n",
    "raw_data = raw_data.drop([\"Date\", \"Dividends\", \"Stock Splits\"], axis=1)\n",
    "\n",
    "data = raw_data.pct_change()\n",
    "data = data.dropna()\n",
    "data = data.to_numpy()\n",
    "\n",
    "raw_data = raw_data.to_numpy()\n",
    "raw_data = raw_data[1:, :]\n",
    "print(raw_data.shape)\n",
    "print(data.shape)"
   ]
  },
  {
   "cell_type": "code",
   "execution_count": 4,
   "id": "0ab000ff-90ec-48de-b3db-99b2942a5b4e",
   "metadata": {},
   "outputs": [
    {
     "name": "stdout",
     "output_type": "stream",
     "text": [
      "(9679, 64, 5)\n",
      "(9679, 8)\n"
     ]
    }
   ],
   "source": [
    "n_windows = 64\n",
    "n_size = len(data)\n",
    "n_features = len(data[0])\n",
    "n_futures = 8\n",
    "\n",
    "X = np.zeros((n_size - n_windows - n_futures, n_windows, n_features))\n",
    "\n",
    "for i in range(n_size - n_windows - n_futures):\n",
    "    X[i] = data[i:i+n_windows]\n",
    "    # X.append(data[i:i+n_windows])\n",
    "\n",
    "y = []\n",
    "\n",
    "for i in range(n_windows, n_size - n_futures):\n",
    "    t_pct = []\n",
    "    for j in range(n_futures):\n",
    "        pct = raw_data[i + j][3] / raw_data[i - 1][3]\n",
    "        pct = pct - 1\n",
    "        t_pct.append(pct)  \n",
    "    y.append(t_pct)\n",
    "\n",
    "y = np.array(y)\n",
    "\n",
    "print(X.shape)\n",
    "print(y.shape)"
   ]
  },
  {
   "cell_type": "code",
   "execution_count": 5,
   "id": "f441a031-943b-4546-9819-eacc4e62ffa0",
   "metadata": {},
   "outputs": [],
   "source": [
    "dataset = StockDataset(X, y)\n",
    "train_dataset, test_dataset = torch.utils.data.random_split(dataset, [0.8, 0.2])\n",
    "train_loader = DataLoader(train_dataset, batch_size=64, shuffle=True)\n",
    "test_loader = DataLoader(test_dataset, batch_size=64, shuffle=False)"
   ]
  },
  {
   "cell_type": "code",
   "execution_count": 6,
   "id": "eb3dea25-3119-4f7b-a911-996597a6d2c7",
   "metadata": {},
   "outputs": [],
   "source": [
    "criterion = nn.MSELoss()\n",
    "optimizer = torch.optim.Adam(model.parameters(), lr=0.0005)"
   ]
  },
  {
   "cell_type": "code",
   "execution_count": 7,
   "id": "31336f11-ef86-4895-98d4-f205a883fcbb",
   "metadata": {},
   "outputs": [
    {
     "name": "stdout",
     "output_type": "stream",
     "text": [
      "EPOCH 1/30: Loss - 0.0024690320\n",
      "EPOCH 2/30: Loss - 0.0017497188\n",
      "EPOCH 3/30: Loss - 0.0017482617\n",
      "EPOCH 4/30: Loss - 0.0017459352\n",
      "EPOCH 5/30: Loss - 0.0017469682\n",
      "EPOCH 6/30: Loss - 0.0017458334\n",
      "EPOCH 7/30: Loss - 0.0017425478\n",
      "EPOCH 8/30: Loss - 0.0017436421\n",
      "EPOCH 9/30: Loss - 0.0017431933\n",
      "EPOCH 10/30: Loss - 0.0017432192\n",
      "EPOCH 11/30: Loss - 0.0017478910\n",
      "EPOCH 12/30: Loss - 0.0017473194\n",
      "EPOCH 13/30: Loss - 0.0017441855\n",
      "EPOCH 14/30: Loss - 0.0017417240\n",
      "EPOCH 15/30: Loss - 0.0017409058\n",
      "EPOCH 16/30: Loss - 0.0017440595\n",
      "EPOCH 17/30: Loss - 0.0017393353\n",
      "EPOCH 18/30: Loss - 0.0017398562\n",
      "EPOCH 19/30: Loss - 0.0017300266\n",
      "EPOCH 20/30: Loss - 0.0017319715\n",
      "EPOCH 21/30: Loss - 0.0017408328\n",
      "EPOCH 22/30: Loss - 0.0017377429\n",
      "EPOCH 23/30: Loss - 0.0017308695\n",
      "EPOCH 24/30: Loss - 0.0017242852\n",
      "EPOCH 25/30: Loss - 0.0017253096\n",
      "EPOCH 26/30: Loss - 0.0017206305\n",
      "EPOCH 27/30: Loss - 0.0017209723\n",
      "EPOCH 28/30: Loss - 0.0017226113\n",
      "EPOCH 29/30: Loss - 0.0017294820\n",
      "EPOCH 30/30: Loss - 0.0017248767\n"
     ]
    }
   ],
   "source": [
    "n_epochs = 30\n",
    "\n",
    "model.train()\n",
    "for epoch in range(n_epochs):\n",
    "    epoch_loss = 0\n",
    "    for inputs, labels in train_loader:\n",
    "        optimizer.zero_grad()\n",
    "        outputs = model(inputs)\n",
    "        loss = criterion(outputs, labels)\n",
    "        loss.backward()\n",
    "        optimizer.step()\n",
    "        epoch_loss += loss.item()\n",
    "    print(f\"EPOCH {epoch+1}/{n_epochs}: Loss - {epoch_loss/ len(train_loader):.10f}\")"
   ]
  },
  {
   "cell_type": "code",
   "execution_count": 8,
   "id": "91e76130-ecc3-440d-b721-8c6d8a769676",
   "metadata": {},
   "outputs": [
    {
     "data": {
      "text/plain": [
       "array([ 0.00233068, -0.00062411, -0.00218441, -0.0017643 ,  0.00151163,\n",
       "       -0.00102914,  0.00168047,  0.00301496], dtype=float32)"
      ]
     },
     "execution_count": 8,
     "metadata": {},
     "output_type": "execute_result"
    }
   ],
   "source": [
    "y_pred = model(torch.tensor(X[-1].reshape(1, 64, 5), dtype=torch.float32))\n",
    "y_pred = y_pred.detach().numpy()\n",
    "y_pred = y_pred.reshape(8,)\n",
    "y_pred"
   ]
  },
  {
   "cell_type": "code",
   "execution_count": 13,
   "id": "d52cb565-45b3-4d77-a341-8e2727c67902",
   "metadata": {},
   "outputs": [],
   "source": [
    "from datetime import datetime"
   ]
  },
  {
   "cell_type": "code",
   "execution_count": 41,
   "id": "91bd4921-54c7-4776-a7a3-112621e0d78a",
   "metadata": {},
   "outputs": [
    {
     "data": {
      "text/plain": [
       "<Figure size 600x600 with 0 Axes>"
      ]
     },
     "metadata": {},
     "output_type": "display_data"
    },
    {
     "data": {
      "image/png": "[encoded data removed]",
      "text/plain": [
       "<Figure size 800x575 with 2 Axes>"
      ]
     },
     "metadata": {},
     "output_type": "display_data"
    }
   ],
   "source": [
    "plot_data = raw_data[-64-8:]\n",
    "df = pd.DataFrame(plot_data, columns=['Open', 'High', 'Low', 'Close', 'Volume'])\n",
    "df.index = pd.date_range(\"2023-01-01\", periods=len(df), freq=\"D\")\n",
    "\n",
    "# added = []\n",
    "# for i in range(len(df)):\n",
    "#     added.append(np.nan)\n",
    "\n",
    "# for i in range(8):\n",
    "#     added[len(df) - 8 + i] = plot_data[len(df) - 9][3] * (1 + y_pred[i])\n",
    "\n",
    "# apd = mpf.make_addplot(added)\n",
    "\n",
    "plt.figure(figsize=(6,6))\n",
    "\n",
    "fig, ax = mpf.plot(\n",
    "    df,\n",
    "    type='candle',\n",
    "    style='charles',\n",
    "    datetime_format='',\n",
    "    volume=False,\n",
    "    returnfig=True,\n",
    ")\n",
    "\n",
    "future_x = np.arange(len(df.index), len(df.index) + 10)  # Extend x-axis for predictions\n",
    "future_y = np.linspace(430, 440, 10)  # Predictive trend prices\n",
    "\n",
    "ax[0].plot(future_x, future_y)\n",
    "\n",
    "future_x = np.arange(len(df.index), len(df.index) + 50)  # Extend x-axis for predictions\n",
    "future_y = np.linspace(430, 435, 50)  # Predictive trend prices\n",
    "\n",
    "ax[0].plot(future_x, future_y, label='Predictive Trend', linestyle='--', color='red')\n",
    "\n",
    "plt.show()"
   ]
  },
  {
   "cell_type": "code",
   "execution_count": 10,
   "id": "5551e474-a368-4ea0-a756-50db2c2ca724",
   "metadata": {},
   "outputs": [],
   "source": []
  },
  {
   "cell_type": "code",
   "execution_count": 33,
   "id": "135120a8-66f2-437e-bd7a-05b3d4e09829",
   "metadata": {},
   "outputs": [
    {
     "data": {
      "image/png": "[encoded data removed]",
      "text/plain": [
       "<Figure size 800x575 with 2 Axes>"
      ]
     },
     "metadata": {},
     "output_type": "display_data"
    }
   ],
   "source": [
    "from datetime import datetime, timedelta\n",
    "import mplfinance as mpf\n",
    "import pandas as pd\n",
    "import numpy as np\n",
    "\n",
    "# Example candlestick data\n",
    "data = {\n",
    "    'Date': ['2023-01-01', '2023-01-02', '2023-01-03', '2023-01-04'],\n",
    "    'Open': [430, 435, 440, 450],\n",
    "    'High': [440, 445, 450, 460],\n",
    "    'Low': [425, 430, 435, 440],\n",
    "    'Close': [435, 440, 445, 455],\n",
    "    'Volume': [1000, 1200, 1500, 1600]\n",
    "}\n",
    "df = pd.DataFrame(data)\n",
    "df['Date'] = pd.to_datetime(df['Date'])\n",
    "df.set_index('Date', inplace=True)\n",
    "\n",
    "# Create candlestick chart and retrieve Figure and Axes\n",
    "fig, ax = mpf.plot(\n",
    "    df,\n",
    "    type='candle',\n",
    "    style='charles',\n",
    "    volume=False,\n",
    "    returnfig=True\n",
    ")\n",
    "\n",
    "# Map internal x-axis positions to actual dates\n",
    "x_values = np.arange(len(df.index))  # Internal integer x-axis positions\n",
    "y_values = df['Close'].values\n",
    "\n",
    "# Add a predictive trend line\n",
    "future_x = np.arange(len(df.index), len(df.index) + 3)  # Extend x-axis for predictions\n",
    "future_y = [455, 460, 465]  # Predictive trend prices\n",
    "\n",
    "# Plot the trend line on the main candlestick axis\n",
    "ax[0].plot(future_x, future_y, label='Predictive Trend', linestyle='--', color='red')\n",
    "ax[0].legend()  # Add a legend\n",
    "\n",
    "# Adjust x-axis ticks to display actual dates, including predictions\n",
    "# new_dates = list(df.index) + [df.index[-1] + timedelta(days=i) for i in range(1, 4)]\n",
    "# ax[0].set_xticks(np.arange(len(new_dates)))\n",
    "# ax[0].set_xticklabels([date.strftime('%Y-%m-%d') for date in new_dates], rotation=45)\n",
    "\n",
    "# Show the updated figure\n",
    "plt.show()\n"
   ]
  },
  {
   "cell_type": "code",
   "execution_count": 32,
   "id": "cee38fcd-fb95-4bd6-bcdd-41f69564da6c",
   "metadata": {},
   "outputs": [
    {
     "data": {
      "text/plain": [
       "array([4, 5, 6])"
      ]
     },
     "execution_count": 32,
     "metadata": {},
     "output_type": "execute_result"
    }
   ],
   "source": [
    "future_x"
   ]
  },
  {
   "cell_type": "code",
   "execution_count": null,
   "id": "85e0398b-6cd1-4e8d-9980-26f747962d8a",
   "metadata": {},
   "outputs": [],
   "source": []
  }
 ],
 "metadata": {
  "kernelspec": {
   "display_name": "Python 3 (ipykernel)",
   "language": "python",
   "name": "python3"
  },
  "language_info": {
   "codemirror_mode": {
    "name": "ipython",
    "version": 3
   },
   "file_extension": ".py",
   "mimetype": "text/x-python",
   "name": "python",
   "nbconvert_exporter": "python",
   "pygments_lexer": "ipython3",
   "version": "3.11.7"
  }
 },
 "nbformat": 4,
 "nbformat_minor": 5
}
