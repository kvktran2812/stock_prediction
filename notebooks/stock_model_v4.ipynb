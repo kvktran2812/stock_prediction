{
 "cells": [
  {
   "cell_type": "code",
   "execution_count": 1,
   "id": "1bcef923-afcc-47a0-8ebd-6ca409834257",
   "metadata": {},
   "outputs": [],
   "source": [
    "import pandas as pd\n",
    "import numpy as np\n",
    "import yfinance as yf\n",
    "import matplotlib.pyplot as plt\n",
    "import seaborn as sns\n",
    "import torch\n",
    "import torch.nn as nn\n",
    "from torch.utils.data import DataLoader, Dataset\n",
    "from sklearn.preprocessing import MinMaxScaler\n",
    "from sklearn.metrics import mean_absolute_error, mean_squared_error\n",
    "from stock import *\n",
    "from datetime import datetime\n",
    "import mplfinance as mpf\n",
    "from torchviz import make_dot"
   ]
  },
  {
   "cell_type": "code",
   "execution_count": 2,
   "id": "349767df-8696-476e-8211-82a17044c407",
   "metadata": {},
   "outputs": [
    {
     "name": "stdout",
     "output_type": "stream",
     "text": [
      "(11079, 5)\n",
      "(11078, 5)\n"
     ]
    }
   ],
   "source": [
    "data = load_raw_stock_data(\"AAPL\", interval=\"1d\", period=\"max\")\n",
    "process_data = clean_data(data)\n",
    "\n",
    "data = data.to_numpy()\n",
    "print(data.shape)\n",
    "print(process_data.shape)"
   ]
  },
  {
   "cell_type": "code",
   "execution_count": 3,
   "id": "51ce2de1-2dfd-4cc9-8e70-394270940942",
   "metadata": {},
   "outputs": [
    {
     "name": "stdout",
     "output_type": "stream",
     "text": [
      "StockModel(\n",
      "  (lstm): LSTM(5, 128, batch_first=True)\n",
      "  (relu): ReLU()\n",
      "  (fc1): Linear(in_features=128, out_features=128, bias=True)\n",
      "  (fc2): Linear(in_features=128, out_features=128, bias=True)\n",
      "  (fc3): Linear(in_features=128, out_features=128, bias=True)\n",
      "  (fc4): Linear(in_features=128, out_features=32, bias=True)\n",
      ")\n"
     ]
    }
   ],
   "source": [
    "class StockModel(nn.Module):\n",
    "    n_features = 5\n",
    "    n_layers = 1\n",
    "    \n",
    "    def __init__(self, n_windows: int = 64, output_size: int = 8):\n",
    "        super(StockModel, self).__init__()\n",
    "        self.lstm = nn.LSTM(self.n_features, n_windows, self.n_layers, batch_first=True)\n",
    "        self.relu = nn.ReLU()\n",
    "        self.fc1 = nn.Linear(n_windows, n_windows)\n",
    "        self.fc2 = nn.Linear(n_windows, n_windows)\n",
    "        self.fc3 = nn.Linear(n_windows, n_windows)\n",
    "        self.fc4 = nn.Linear(n_windows, output_size)\n",
    "\n",
    "    def forward(self, x):\n",
    "        x, _ = self.lstm(x)\n",
    "        x = x[:, -1, :]\n",
    "        x = self.fc1(x)\n",
    "        x = self.relu(x)\n",
    "        x = self.fc2(x)\n",
    "        x = self.relu(x)\n",
    "        x = self.fc3(x)\n",
    "        x = self.relu(x)\n",
    "        x = self.fc4(x)\n",
    "        return x\n",
    "\n",
    "model = StockModel(n_windows=128, output_size=32)\n",
    "print(model)"
   ]
  },
  {
   "cell_type": "code",
   "execution_count": 4,
   "id": "14c6de5d-7b1f-42c4-89b1-4ad8b0653e36",
   "metadata": {},
   "outputs": [
    {
     "name": "stdout",
     "output_type": "stream",
     "text": [
      "(10918, 128, 5)\n",
      "(10918, 32)\n"
     ]
    }
   ],
   "source": [
    "n_windows = 128\n",
    "n_size = len(process_data)\n",
    "n_features = len(process_data[0])\n",
    "n_futures = 32\n",
    "\n",
    "X = np.zeros((n_size - n_windows - n_futures, n_windows, n_features))\n",
    "\n",
    "for i in range(n_size - n_windows - n_futures):\n",
    "    X[i] = process_data[i:i+n_windows]\n",
    "\n",
    "y = np.zeros((n_size - n_windows - n_futures, n_futures))\n",
    "\n",
    "for i in range(n_size - n_windows - n_futures):\n",
    "    for j in range(n_futures):\n",
    "        y[i][j] = (data[i + n_windows + j + 1][3] / data[i + n_windows + 1][3]) - 1\n",
    "\n",
    "y = np.array(y)\n",
    "\n",
    "print(X.shape)\n",
    "print(y.shape)"
   ]
  },
  {
   "cell_type": "code",
   "execution_count": 5,
   "id": "482f4a7b-4fd1-4716-a38b-3421952f4de6",
   "metadata": {},
   "outputs": [],
   "source": [
    "dataset = StockDataset(X, y)\n",
    "train_dataset, test_dataset = torch.utils.data.random_split(dataset, [0.8, 0.2])\n",
    "train_loader = DataLoader(train_dataset, batch_size=64, shuffle=True)\n",
    "test_loader = DataLoader(test_dataset, batch_size=64, shuffle=False)"
   ]
  },
  {
   "cell_type": "code",
   "execution_count": 6,
   "id": "120b1af1-fe7e-45a2-b8ac-0bd4a8315955",
   "metadata": {},
   "outputs": [],
   "source": [
    "criterion = nn.MSELoss()\n",
    "optimizer = torch.optim.Adam(model.parameters(), lr=0.0001)"
   ]
  },
  {
   "cell_type": "code",
   "execution_count": 7,
   "id": "28cafb88-9cc6-463b-8bfa-f0b2249d2306",
   "metadata": {},
   "outputs": [
    {
     "name": "stdout",
     "output_type": "stream",
     "text": [
      "Parameter lstm.weight_ih_l0 is on device: cuda:0\n",
      "Parameter lstm.weight_hh_l0 is on device: cuda:0\n",
      "Parameter lstm.bias_ih_l0 is on device: cuda:0\n",
      "Parameter lstm.bias_hh_l0 is on device: cuda:0\n",
      "Parameter fc1.weight is on device: cuda:0\n",
      "Parameter fc1.bias is on device: cuda:0\n",
      "Parameter fc2.weight is on device: cuda:0\n",
      "Parameter fc2.bias is on device: cuda:0\n",
      "Parameter fc3.weight is on device: cuda:0\n",
      "Parameter fc3.bias is on device: cuda:0\n",
      "Parameter fc4.weight is on device: cuda:0\n",
      "Parameter fc4.bias is on device: cuda:0\n"
     ]
    }
   ],
   "source": [
    "model.to(\"cuda\")\n",
    "\n",
    "for name, param in model.named_parameters():\n",
    "    print(f\"Parameter {name} is on device: {param.device}\")"
   ]
  },
  {
   "cell_type": "code",
   "execution_count": 8,
   "id": "d2e1ccbd-fd97-4873-908d-a33a00f56869",
   "metadata": {},
   "outputs": [
    {
     "name": "stdout",
     "output_type": "stream",
     "text": [
      "EPOCH 1/50: Loss - 0.0130552343\n",
      "EPOCH 2/50: Loss - 0.0121167598\n",
      "EPOCH 3/50: Loss - 0.0121191973\n",
      "EPOCH 4/50: Loss - 0.0121037514\n",
      "EPOCH 5/50: Loss - 0.0121019843\n",
      "EPOCH 6/50: Loss - 0.0121043793\n",
      "EPOCH 7/50: Loss - 0.0120911321\n",
      "EPOCH 8/50: Loss - 0.0121112825\n",
      "EPOCH 9/50: Loss - 0.0121145838\n",
      "EPOCH 10/50: Loss - 0.0120987905\n",
      "EPOCH 11/50: Loss - 0.0121116375\n",
      "EPOCH 12/50: Loss - 0.0120885928\n",
      "EPOCH 13/50: Loss - 0.0120852769\n",
      "EPOCH 14/50: Loss - 0.0120728817\n",
      "EPOCH 15/50: Loss - 0.0120781985\n",
      "EPOCH 16/50: Loss - 0.0120720374\n",
      "EPOCH 17/50: Loss - 0.0120659344\n",
      "EPOCH 18/50: Loss - 0.0120538903\n",
      "EPOCH 19/50: Loss - 0.0120753240\n",
      "EPOCH 20/50: Loss - 0.0120438515\n",
      "EPOCH 21/50: Loss - 0.0120675825\n",
      "EPOCH 22/50: Loss - 0.0120507002\n",
      "EPOCH 23/50: Loss - 0.0120468764\n",
      "EPOCH 24/50: Loss - 0.0120604177\n",
      "EPOCH 25/50: Loss - 0.0120564649\n",
      "EPOCH 26/50: Loss - 0.0120390284\n",
      "EPOCH 27/50: Loss - 0.0120596185\n",
      "EPOCH 28/50: Loss - 0.0120582239\n",
      "EPOCH 29/50: Loss - 0.0120696760\n",
      "EPOCH 30/50: Loss - 0.0120440180\n",
      "EPOCH 31/50: Loss - 0.0120445503\n",
      "EPOCH 32/50: Loss - 0.0120711604\n",
      "EPOCH 33/50: Loss - 0.0120500738\n",
      "EPOCH 34/50: Loss - 0.0120509412\n",
      "EPOCH 35/50: Loss - 0.0120377661\n",
      "EPOCH 36/50: Loss - 0.0120602744\n",
      "EPOCH 37/50: Loss - 0.0120678334\n",
      "EPOCH 38/50: Loss - 0.0120314266\n",
      "EPOCH 39/50: Loss - 0.0120411721\n",
      "EPOCH 40/50: Loss - 0.0120358451\n",
      "EPOCH 41/50: Loss - 0.0120260863\n",
      "EPOCH 42/50: Loss - 0.0120388888\n",
      "EPOCH 43/50: Loss - 0.0120515159\n",
      "EPOCH 44/50: Loss - 0.0120531780\n",
      "EPOCH 45/50: Loss - 0.0120384645\n",
      "EPOCH 46/50: Loss - 0.0120312259\n",
      "EPOCH 47/50: Loss - 0.0120271857\n",
      "EPOCH 48/50: Loss - 0.0120012072\n",
      "EPOCH 49/50: Loss - 0.0119926325\n",
      "EPOCH 50/50: Loss - 0.0119989861\n"
     ]
    }
   ],
   "source": [
    "n_epochs = 50\n",
    "\n",
    "model.train()\n",
    "for epoch in range(n_epochs):\n",
    "    epoch_loss = 0\n",
    "    for inputs, labels in train_loader:\n",
    "        inputs, labels = inputs.to(\"cuda\"), labels.to(\"cuda\")\n",
    "        optimizer.zero_grad()\n",
    "        outputs = model(inputs)\n",
    "        loss = criterion(outputs, labels)\n",
    "        loss.backward()\n",
    "        optimizer.step()\n",
    "        epoch_loss += loss.item()\n",
    "    print(f\"EPOCH {epoch+1}/{n_epochs}: Loss - {epoch_loss/ len(train_loader):.10f}\")"
   ]
  },
  {
   "cell_type": "code",
   "execution_count": 9,
   "id": "329e8e25-e292-4f19-9190-bcd4a023234c",
   "metadata": {},
   "outputs": [
    {
     "data": {
      "text/plain": [
       "array([229.26842, 229.30043, 229.76505, 229.23134, 229.64014, 230.14697,\n",
       "       230.56805, 230.23616, 231.03549, 230.51505, 231.02133, 231.23076,\n",
       "       231.59738, 232.10684, 231.62561, 232.17972, 232.60129, 233.02611,\n",
       "       233.35437, 232.88272, 233.71065, 233.53331, 234.31027, 234.27303,\n",
       "       234.41315, 234.86272, 235.56471, 234.95808, 235.8663 , 236.49406,\n",
       "       236.78754, 237.05722], dtype=float32)"
      ]
     },
     "execution_count": 9,
     "metadata": {},
     "output_type": "execute_result"
    }
   ],
   "source": [
    "test_x = torch.tensor(X[-1].reshape(1, 128, 5), dtype=torch.float32).to(\"cuda\")\n",
    "\n",
    "y_pred = model(test_x)\n",
    "y_pred = y_pred.cpu().detach().numpy()\n",
    "y_pred = y_pred.reshape(32,)\n",
    "\n",
    "close = data[-33][3]\n",
    "\n",
    "for i in range(32):\n",
    "    y_pred[i] = close * (1 + y_pred[i])\n",
    "\n",
    "y_pred"
   ]
  },
  {
   "cell_type": "code",
   "execution_count": 10,
   "id": "14ce5891-88cc-4d8e-bef3-bd4e571fdcb0",
   "metadata": {},
   "outputs": [
    {
     "data": {
      "image/png": "[encoded data removed]",
      "text/plain": [
       "<Figure size 800x575 with 2 Axes>"
      ]
     },
     "metadata": {},
     "output_type": "display_data"
    }
   ],
   "source": [
    "plot_data = data[-128-32:]\n",
    "df = pd.DataFrame(plot_data, columns=['Open', 'High', 'Low', 'Close', 'Volume'])\n",
    "df.index = pd.date_range(\"2023-01-01\", periods=len(df), freq=\"D\")\n",
    "\n",
    "fig, ax = mpf.plot(\n",
    "    df,\n",
    "    type='candle',\n",
    "    style='charles',\n",
    "    datetime_format='',\n",
    "    volume=False,\n",
    "    returnfig=True,\n",
    ")\n",
    "\n",
    "x_pred = np.arange(len(df.index) - 32, len(df.index)) \n",
    "\n",
    "ax[0].plot(x_pred, y_pred, label='Predictive Trend', color='blue')\n",
    "ax[0].legend()\n",
    "\n",
    "plt.show()"
   ]
  },
  {
   "cell_type": "code",
   "execution_count": 11,
   "id": "4bbda4fd-17cd-4608-bc3c-11919abdf5b4",
   "metadata": {},
   "outputs": [],
   "source": [
    "torch.save(model.state_dict(), \"../models/kv_stock_v2.pth\")"
   ]
  },
  {
   "cell_type": "code",
   "execution_count": 12,
   "id": "1a25991b-9d7e-446f-9f31-a88653d52f9f",
   "metadata": {},
   "outputs": [
    {
     "data": {
      "text/plain": [
       "<All keys matched successfully>"
      ]
     },
     "execution_count": 12,
     "metadata": {},
     "output_type": "execute_result"
    }
   ],
   "source": [
    "model.load_state_dict(torch.load(\"../models/kv_stock_v2.pth\"))"
   ]
  },
  {
   "cell_type": "code",
   "execution_count": null,
   "id": "165fb34f-a147-4d34-a6d1-54db71fbeaff",
   "metadata": {},
   "outputs": [],
   "source": []
  }
 ],
 "metadata": {
  "kernelspec": {
   "display_name": "Python 3 (ipykernel)",
   "language": "python",
   "name": "python3"
  },
  "language_info": {
   "codemirror_mode": {
    "name": "ipython",
    "version": 3
   },
   "file_extension": ".py",
   "mimetype": "text/x-python",
   "name": "python",
   "nbconvert_exporter": "python",
   "pygments_lexer": "ipython3",
   "version": "3.11.7"
  }
 },
 "nbformat": 4,
 "nbformat_minor": 5
}
