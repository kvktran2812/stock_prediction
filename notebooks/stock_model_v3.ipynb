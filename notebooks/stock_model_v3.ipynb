{
 "cells": [
  {
   "cell_type": "code",
   "execution_count": 1,
   "id": "b4d41099-4bb8-42a9-93e4-0b07a0ec0f99",
   "metadata": {},
   "outputs": [],
   "source": [
    "import pandas as pd\n",
    "import numpy as np\n",
    "import yfinance as yf\n",
    "import matplotlib.pyplot as plt\n",
    "import seaborn as sns\n",
    "import torch\n",
    "import torch.nn as nn\n",
    "from torch.utils.data import DataLoader, Dataset\n",
    "from sklearn.preprocessing import MinMaxScaler\n",
    "from sklearn.metrics import mean_absolute_error, mean_squared_error\n",
    "from stock import *\n",
    "from datetime import datetime\n",
    "import mplfinance as mpf\n",
    "from torchviz import make_dot"
   ]
  },
  {
   "cell_type": "code",
   "execution_count": 2,
   "id": "7a96a45d-2636-42a5-a0a6-8d7b038bca33",
   "metadata": {},
   "outputs": [
    {
     "name": "stdout",
     "output_type": "stream",
     "text": [
      "(11079, 5)\n",
      "(11078, 5)\n"
     ]
    }
   ],
   "source": [
    "data = load_raw_stock_data(\"AAPL\", interval=\"1d\", period=\"max\")\n",
    "process_data = clean_data(data)\n",
    "\n",
    "data = data.to_numpy()\n",
    "print(data.shape)\n",
    "print(process_data.shape)"
   ]
  },
  {
   "cell_type": "code",
   "execution_count": 3,
   "id": "7ecf7204-9196-482c-8b81-88a0a5e5daf3",
   "metadata": {},
   "outputs": [
    {
     "name": "stdout",
     "output_type": "stream",
     "text": [
      "StockModel(\n",
      "  (lstm): LSTM(5, 64, batch_first=True)\n",
      "  (relu): ReLU()\n",
      "  (fc1): Linear(in_features=64, out_features=64, bias=True)\n",
      "  (fc2): Linear(in_features=64, out_features=64, bias=True)\n",
      "  (fc3): Linear(in_features=64, out_features=64, bias=True)\n",
      "  (fc4): Linear(in_features=64, out_features=8, bias=True)\n",
      ")\n"
     ]
    }
   ],
   "source": [
    "class StockModel(nn.Module):\n",
    "    n_features = 5\n",
    "    n_layers = 1\n",
    "    \n",
    "    def __init__(self, n_windows: int = 64, output_size: int = 8):\n",
    "        super(StockModel, self).__init__()\n",
    "        self.lstm = nn.LSTM(self.n_features, n_windows, self.n_layers, batch_first=True)\n",
    "        self.relu = nn.ReLU()\n",
    "        self.fc1 = nn.Linear(n_windows, n_windows)\n",
    "        self.fc2 = nn.Linear(n_windows, n_windows)\n",
    "        self.fc3 = nn.Linear(n_windows, n_windows)\n",
    "        self.fc4 = nn.Linear(n_windows, output_size)\n",
    "\n",
    "    def forward(self, x):\n",
    "        x, _ = self.lstm(x)\n",
    "        x = x[:, -1, :]\n",
    "        x = self.fc1(x)\n",
    "        x = self.relu(x)\n",
    "        x = self.fc2(x)\n",
    "        x = self.relu(x)\n",
    "        x = self.fc3(x)\n",
    "        x = self.relu(x)\n",
    "        x = self.fc4(x)\n",
    "        return x\n",
    "\n",
    "model = StockModel(n_windows=64, output_size=8)\n",
    "print(model)"
   ]
  },
  {
   "cell_type": "code",
   "execution_count": 4,
   "id": "0ab000ff-90ec-48de-b3db-99b2942a5b4e",
   "metadata": {},
   "outputs": [
    {
     "name": "stdout",
     "output_type": "stream",
     "text": [
      "(11006, 64, 5)\n",
      "(11006, 8)\n"
     ]
    }
   ],
   "source": [
    "n_windows = 64\n",
    "n_size = len(process_data)\n",
    "n_features = len(process_data[0])\n",
    "n_futures = 8\n",
    "\n",
    "X = np.zeros((n_size - n_windows - n_futures, n_windows, n_features))\n",
    "\n",
    "for i in range(n_size - n_windows - n_futures):\n",
    "    X[i] = process_data[i:i+n_windows]\n",
    "\n",
    "y = np.zeros((n_size - n_windows - n_futures, n_futures))\n",
    "\n",
    "for i in range(n_size - n_windows - n_futures):\n",
    "    for j in range(n_futures):\n",
    "        y[i][j] = (data[i + n_windows + j + 1][3] / data[i + n_windows + 1][3]) - 1\n",
    "\n",
    "y = np.array(y)\n",
    "\n",
    "print(X.shape)\n",
    "print(y.shape)"
   ]
  },
  {
   "cell_type": "code",
   "execution_count": 5,
   "id": "f441a031-943b-4546-9819-eacc4e62ffa0",
   "metadata": {},
   "outputs": [],
   "source": [
    "dataset = StockDataset(X, y)\n",
    "train_dataset, test_dataset = torch.utils.data.random_split(dataset, [0.8, 0.2])\n",
    "train_loader = DataLoader(train_dataset, batch_size=64, shuffle=True)\n",
    "test_loader = DataLoader(test_dataset, batch_size=64, shuffle=False)"
   ]
  },
  {
   "cell_type": "code",
   "execution_count": 6,
   "id": "eb3dea25-3119-4f7b-a911-996597a6d2c7",
   "metadata": {},
   "outputs": [],
   "source": [
    "criterion = nn.MSELoss()\n",
    "optimizer = torch.optim.Adam(model.parameters(), lr=0.0001)"
   ]
  },
  {
   "cell_type": "code",
   "execution_count": 7,
   "id": "31336f11-ef86-4895-98d4-f205a883fcbb",
   "metadata": {},
   "outputs": [
    {
     "name": "stdout",
     "output_type": "stream",
     "text": [
      "Parameter lstm.weight_ih_l0 is on device: cuda:0\n",
      "Parameter lstm.weight_hh_l0 is on device: cuda:0\n",
      "Parameter lstm.bias_ih_l0 is on device: cuda:0\n",
      "Parameter lstm.bias_hh_l0 is on device: cuda:0\n",
      "Parameter fc1.weight is on device: cuda:0\n",
      "Parameter fc1.bias is on device: cuda:0\n",
      "Parameter fc2.weight is on device: cuda:0\n",
      "Parameter fc2.bias is on device: cuda:0\n",
      "Parameter fc3.weight is on device: cuda:0\n",
      "Parameter fc3.bias is on device: cuda:0\n",
      "Parameter fc4.weight is on device: cuda:0\n",
      "Parameter fc4.bias is on device: cuda:0\n"
     ]
    }
   ],
   "source": [
    "model.to(\"cuda\")\n",
    "\n",
    "for name, param in model.named_parameters():\n",
    "    print(f\"Parameter {name} is on device: {param.device}\")"
   ]
  },
  {
   "cell_type": "code",
   "execution_count": 8,
   "id": "91e76130-ecc3-440d-b721-8c6d8a769676",
   "metadata": {},
   "outputs": [
    {
     "name": "stdout",
     "output_type": "stream",
     "text": [
      "EPOCH 1/50: Loss - 0.0045647459\n",
      "EPOCH 2/50: Loss - 0.0026137492\n",
      "EPOCH 3/50: Loss - 0.0026142279\n",
      "EPOCH 4/50: Loss - 0.0026148877\n",
      "EPOCH 5/50: Loss - 0.0026109222\n",
      "EPOCH 6/50: Loss - 0.0026103657\n",
      "EPOCH 7/50: Loss - 0.0026117423\n",
      "EPOCH 8/50: Loss - 0.0026112402\n",
      "EPOCH 9/50: Loss - 0.0026180970\n",
      "EPOCH 10/50: Loss - 0.0026116778\n",
      "EPOCH 11/50: Loss - 0.0026122829\n",
      "EPOCH 12/50: Loss - 0.0026138022\n",
      "EPOCH 13/50: Loss - 0.0026158946\n",
      "EPOCH 14/50: Loss - 0.0026109152\n",
      "EPOCH 15/50: Loss - 0.0026084682\n",
      "EPOCH 16/50: Loss - 0.0026077777\n",
      "EPOCH 17/50: Loss - 0.0026166953\n",
      "EPOCH 18/50: Loss - 0.0026129114\n",
      "EPOCH 19/50: Loss - 0.0026076363\n",
      "EPOCH 20/50: Loss - 0.0026148480\n",
      "EPOCH 21/50: Loss - 0.0026108499\n",
      "EPOCH 22/50: Loss - 0.0026087355\n",
      "EPOCH 23/50: Loss - 0.0026079541\n",
      "EPOCH 24/50: Loss - 0.0026047966\n",
      "EPOCH 25/50: Loss - 0.0026113691\n",
      "EPOCH 26/50: Loss - 0.0026084893\n",
      "EPOCH 27/50: Loss - 0.0026070399\n",
      "EPOCH 28/50: Loss - 0.0026081243\n",
      "EPOCH 29/50: Loss - 0.0026082044\n",
      "EPOCH 30/50: Loss - 0.0026076328\n",
      "EPOCH 31/50: Loss - 0.0026067792\n",
      "EPOCH 32/50: Loss - 0.0026073387\n",
      "EPOCH 33/50: Loss - 0.0026084747\n",
      "EPOCH 34/50: Loss - 0.0026098375\n",
      "EPOCH 35/50: Loss - 0.0026333165\n",
      "EPOCH 36/50: Loss - 0.0026074982\n",
      "EPOCH 37/50: Loss - 0.0026083080\n",
      "EPOCH 38/50: Loss - 0.0026079108\n",
      "EPOCH 39/50: Loss - 0.0026092790\n",
      "EPOCH 40/50: Loss - 0.0026037053\n",
      "EPOCH 41/50: Loss - 0.0026116629\n",
      "EPOCH 42/50: Loss - 0.0026073546\n",
      "EPOCH 43/50: Loss - 0.0026092996\n",
      "EPOCH 44/50: Loss - 0.0026090022\n",
      "EPOCH 45/50: Loss - 0.0026058428\n",
      "EPOCH 46/50: Loss - 0.0026031438\n",
      "EPOCH 47/50: Loss - 0.0026108888\n",
      "EPOCH 48/50: Loss - 0.0026097094\n",
      "EPOCH 49/50: Loss - 0.0026123363\n",
      "EPOCH 50/50: Loss - 0.0026037976\n"
     ]
    }
   ],
   "source": [
    "n_epochs = 50\n",
    "\n",
    "model.train()\n",
    "for epoch in range(n_epochs):\n",
    "    epoch_loss = 0\n",
    "    for inputs, labels in train_loader:\n",
    "        inputs, labels = inputs.to(\"cuda\"), labels.to(\"cuda\")\n",
    "        optimizer.zero_grad()\n",
    "        outputs = model(inputs)\n",
    "        loss = criterion(outputs, labels)\n",
    "        loss.backward()\n",
    "        optimizer.step()\n",
    "        epoch_loss += loss.item()\n",
    "    print(f\"EPOCH {epoch+1}/{n_epochs}: Loss - {epoch_loss/ len(train_loader):.10f}\")"
   ]
  },
  {
   "cell_type": "code",
   "execution_count": 10,
   "id": "d52cb565-45b3-4d77-a341-8e2727c67902",
   "metadata": {},
   "outputs": [
    {
     "data": {
      "text/plain": [
       "array([224.29637, 224.13017, 224.22163, 224.77641, 224.56898, 225.05313,\n",
       "       225.4751 , 225.94707], dtype=float32)"
      ]
     },
     "execution_count": 10,
     "metadata": {},
     "output_type": "execute_result"
    }
   ],
   "source": [
    "test_x = torch.tensor(X[-1].reshape(1, 64, 5), dtype=torch.float32).to(\"cuda\")\n",
    "\n",
    "y_pred = model(test_x)\n",
    "y_pred = y_pred.cpu().detach().numpy()\n",
    "y_pred = y_pred.reshape(8,)\n",
    "\n",
    "close = data[-9][3]\n",
    "\n",
    "for i in range(8):\n",
    "    y_pred[i] = close * (1 + y_pred[i])\n",
    "\n",
    "y_pred"
   ]
  },
  {
   "cell_type": "code",
   "execution_count": 11,
   "id": "91bd4921-54c7-4776-a7a3-112621e0d78a",
   "metadata": {},
   "outputs": [
    {
     "data": {
      "image/png": "[encoded data removed]",
      "text/plain": [
       "<Figure size 800x575 with 2 Axes>"
      ]
     },
     "metadata": {},
     "output_type": "display_data"
    }
   ],
   "source": [
    "plot_data = data[-64-8:]\n",
    "df = pd.DataFrame(plot_data, columns=['Open', 'High', 'Low', 'Close', 'Volume'])\n",
    "df.index = pd.date_range(\"2023-01-01\", periods=len(df), freq=\"D\")\n",
    "\n",
    "fig, ax = mpf.plot(\n",
    "    df,\n",
    "    type='candle',\n",
    "    style='charles',\n",
    "    datetime_format='',\n",
    "    volume=False,\n",
    "    returnfig=True,\n",
    ")\n",
    "\n",
    "x_pred = np.arange(len(df.index) - 8, len(df.index)) \n",
    "\n",
    "ax[0].plot(x_pred, y_pred, label='Predictive Trend', linestyle='--', color='red')\n",
    "\n",
    "plt.show()"
   ]
  },
  {
   "cell_type": "code",
   "execution_count": null,
   "id": "85e0398b-6cd1-4e8d-9980-26f747962d8a",
   "metadata": {},
   "outputs": [],
   "source": []
  }
 ],
 "metadata": {
  "kernelspec": {
   "display_name": "Python 3 (ipykernel)",
   "language": "python",
   "name": "python3"
  },
  "language_info": {
   "codemirror_mode": {
    "name": "ipython",
    "version": 3
   },
   "file_extension": ".py",
   "mimetype": "text/x-python",
   "name": "python",
   "nbconvert_exporter": "python",
   "pygments_lexer": "ipython3",
   "version": "3.11.7"
  }
 },
 "nbformat": 4,
 "nbformat_minor": 5
}
