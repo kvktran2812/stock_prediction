{
 "cells": [
  {
   "cell_type": "code",
   "execution_count": 1,
   "id": "177ea073-332c-4889-8540-a1cc761e28d3",
   "metadata": {},
   "outputs": [],
   "source": [
    "import pandas as pd\n",
    "import numpy as np\n",
    "import yfinance as yf\n",
    "import matplotlib.pyplot as plt\n",
    "import seaborn as sns\n",
    "import torch\n",
    "import torch.nn as nn\n",
    "from torch.utils.data import DataLoader, Dataset\n",
    "from sklearn.preprocessing import MinMaxScaler\n",
    "from stock import *\n",
    "from sklearn.metrics import mean_absolute_error, mean_squared_error\n",
    "\n",
    "import mplfinance as mpf"
   ]
  },
  {
   "cell_type": "code",
   "execution_count": 2,
   "id": "ee3475a1-c3bf-4d39-b130-9b7e9d993394",
   "metadata": {},
   "outputs": [],
   "source": [
    "class StockModel(nn.Module):\n",
    "    def __init__(self, input_size=5, hidden_size=64, num_layers=1, output_size=4, n_futures=8):\n",
    "        super(StockModel, self).__init__()\n",
    "        self.lstm = nn.LSTM(input_size, hidden_size, num_layers, batch_first=True)\n",
    "        self.fc1 = nn.Linear(hidden_size, 32)\n",
    "        self.relu = nn.ReLU()\n",
    "        self.fc2 = nn.Linear(32, 32)\n",
    "        self.fc3 = nn.Linear(64, output_size * n_futures)\n",
    "    \n",
    "    def forward(self, x):\n",
    "        x, _ = self.lstm(x)\n",
    "        x = x[:, -1, :]\n",
    "        x = self.fc1(x)\n",
    "        x = self.relu(x)\n",
    "        x = self.fc2(x)\n",
    "        x = self.relu(x)\n",
    "        x = self.fc3(x)\n",
    "        return x\n",
    "\n",
    "model = StockModel()"
   ]
  },
  {
   "cell_type": "code",
   "execution_count": 3,
   "id": "278e7855-22a8-4ca1-b942-12681ae883d9",
   "metadata": {},
   "outputs": [],
   "source": [
    "input_size=5\n",
    "hidden_size=64\n",
    "num_layers=1\n",
    "output_size=4\n",
    "n_futures=8"
   ]
  },
  {
   "cell_type": "code",
   "execution_count": 10,
   "id": "0ae0be9f-b5a4-4546-a8ec-23febbb1940f",
   "metadata": {},
   "outputs": [],
   "source": [
    "def process_data(data, n_windows: int = 64, n_futures = 1):\n",
    "    n_columns = len(data[0])\n",
    "    size = len(data)\n",
    "    \n",
    "    X = np.zeros((size - n_windows, n_windows, n_columns))\n",
    "    y = np.zeros((size - n_windows, n_futures, n_columns - 1))\n",
    "    \n",
    "    for i in range(size - n_windows):\n",
    "        X[i] = data[i : i + n_windows]\n",
    "        y[i] = data[i + n_windows : i + n_windows + n_futures, 0: n_columns - 1]\n",
    "\n",
    "    return X, y"
   ]
  },
  {
   "cell_type": "code",
   "execution_count": 11,
   "id": "c24657ea-cfe5-4296-a7d9-81fa12bde54c",
   "metadata": {},
   "outputs": [],
   "source": [
    "data = load_raw_stock_data(\"AAPL\")\n",
    "data = data.pct_change()\n",
    "data = data.dropna()\n",
    "data = data.to_numpy()"
   ]
  },
  {
   "cell_type": "code",
   "execution_count": 12,
   "id": "6a59bfcf-3ac4-4148-a7f2-4463b213f183",
   "metadata": {},
   "outputs": [],
   "source": [
    "X, y = process_data(data)"
   ]
  },
  {
   "cell_type": "code",
   "execution_count": null,
   "id": "406d08dc-c70c-4db4-b6eb-feae8164ccb4",
   "metadata": {},
   "outputs": [],
   "source": []
  }
 ],
 "metadata": {
  "kernelspec": {
   "display_name": "Python 3 (ipykernel)",
   "language": "python",
   "name": "python3"
  },
  "language_info": {
   "codemirror_mode": {
    "name": "ipython",
    "version": 3
   },
   "file_extension": ".py",
   "mimetype": "text/x-python",
   "name": "python",
   "nbconvert_exporter": "python",
   "pygments_lexer": "ipython3",
   "version": "3.11.7"
  }
 },
 "nbformat": 4,
 "nbformat_minor": 5
}
