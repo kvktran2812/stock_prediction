{
 "cells": [
  {
   "cell_type": "markdown",
   "id": "73dd0cae-4eda-46f2-96a8-46f99cc567db",
   "metadata": {},
   "source": [
    "# Data Processing\n",
    "## Import libraries"
   ]
  },
  {
   "cell_type": "code",
   "execution_count": 1,
   "id": "5413afb7-009a-4d02-93b7-797a04a26551",
   "metadata": {},
   "outputs": [],
   "source": [
    "import pandas as pd\n",
    "import numpy as np\n",
    "import yfinance as yf\n",
    "import matplotlib.pyplot as plt\n",
    "import seaborn as sns\n",
    "import torch\n",
    "import torch.nn as nn\n",
    "from torch.utils.data import DataLoader, Dataset\n",
    "from sklearn.preprocessing import MinMaxScaler"
   ]
  },
  {
   "cell_type": "markdown",
   "id": "93e55ed4-a558-4593-a1ae-a3e8a609b461",
   "metadata": {},
   "source": [
    "## Load data"
   ]
  },
  {
   "cell_type": "code",
   "execution_count": 2,
   "id": "9f6522e7-3e52-4e98-99d4-398ede0069a8",
   "metadata": {},
   "outputs": [
    {
     "name": "stdout",
     "output_type": "stream",
     "text": [
      "Number of rows:  11074\n"
     ]
    },
    {
     "data": {
      "text/html": [
       "<div>\n",
       "<style scoped>\n",
       "    .dataframe tbody tr th:only-of-type {\n",
       "        vertical-align: middle;\n",
       "    }\n",
       "\n",
       "    .dataframe tbody tr th {\n",
       "        vertical-align: top;\n",
       "    }\n",
       "\n",
       "    .dataframe thead th {\n",
       "        text-align: right;\n",
       "    }\n",
       "</style>\n",
       "<table border=\"1\" class=\"dataframe\">\n",
       "  <thead>\n",
       "    <tr style=\"text-align: right;\">\n",
       "      <th></th>\n",
       "      <th>Open</th>\n",
       "      <th>High</th>\n",
       "      <th>Low</th>\n",
       "      <th>Close</th>\n",
       "      <th>Volume</th>\n",
       "      <th>Dividends</th>\n",
       "      <th>Stock Splits</th>\n",
       "    </tr>\n",
       "    <tr>\n",
       "      <th>Date</th>\n",
       "      <th></th>\n",
       "      <th></th>\n",
       "      <th></th>\n",
       "      <th></th>\n",
       "      <th></th>\n",
       "      <th></th>\n",
       "      <th></th>\n",
       "    </tr>\n",
       "  </thead>\n",
       "  <tbody>\n",
       "    <tr>\n",
       "      <th>1980-12-12 00:00:00-05:00</th>\n",
       "      <td>0.098834</td>\n",
       "      <td>0.099264</td>\n",
       "      <td>0.098834</td>\n",
       "      <td>0.098834</td>\n",
       "      <td>469033600</td>\n",
       "      <td>0.0</td>\n",
       "      <td>0.0</td>\n",
       "    </tr>\n",
       "    <tr>\n",
       "      <th>1980-12-15 00:00:00-05:00</th>\n",
       "      <td>0.094108</td>\n",
       "      <td>0.094108</td>\n",
       "      <td>0.093678</td>\n",
       "      <td>0.093678</td>\n",
       "      <td>175884800</td>\n",
       "      <td>0.0</td>\n",
       "      <td>0.0</td>\n",
       "    </tr>\n",
       "    <tr>\n",
       "      <th>1980-12-16 00:00:00-05:00</th>\n",
       "      <td>0.087232</td>\n",
       "      <td>0.087232</td>\n",
       "      <td>0.086802</td>\n",
       "      <td>0.086802</td>\n",
       "      <td>105728000</td>\n",
       "      <td>0.0</td>\n",
       "      <td>0.0</td>\n",
       "    </tr>\n",
       "    <tr>\n",
       "      <th>1980-12-17 00:00:00-05:00</th>\n",
       "      <td>0.088951</td>\n",
       "      <td>0.089381</td>\n",
       "      <td>0.088951</td>\n",
       "      <td>0.088951</td>\n",
       "      <td>86441600</td>\n",
       "      <td>0.0</td>\n",
       "      <td>0.0</td>\n",
       "    </tr>\n",
       "    <tr>\n",
       "      <th>1980-12-18 00:00:00-05:00</th>\n",
       "      <td>0.091530</td>\n",
       "      <td>0.091959</td>\n",
       "      <td>0.091530</td>\n",
       "      <td>0.091530</td>\n",
       "      <td>73449600</td>\n",
       "      <td>0.0</td>\n",
       "      <td>0.0</td>\n",
       "    </tr>\n",
       "  </tbody>\n",
       "</table>\n",
       "</div>"
      ],
      "text/plain": [
       "                               Open      High       Low     Close     Volume  \\\n",
       "Date                                                                           \n",
       "1980-12-12 00:00:00-05:00  0.098834  0.099264  0.098834  0.098834  469033600   \n",
       "1980-12-15 00:00:00-05:00  0.094108  0.094108  0.093678  0.093678  175884800   \n",
       "1980-12-16 00:00:00-05:00  0.087232  0.087232  0.086802  0.086802  105728000   \n",
       "1980-12-17 00:00:00-05:00  0.088951  0.089381  0.088951  0.088951   86441600   \n",
       "1980-12-18 00:00:00-05:00  0.091530  0.091959  0.091530  0.091530   73449600   \n",
       "\n",
       "                           Dividends  Stock Splits  \n",
       "Date                                                \n",
       "1980-12-12 00:00:00-05:00        0.0           0.0  \n",
       "1980-12-15 00:00:00-05:00        0.0           0.0  \n",
       "1980-12-16 00:00:00-05:00        0.0           0.0  \n",
       "1980-12-17 00:00:00-05:00        0.0           0.0  \n",
       "1980-12-18 00:00:00-05:00        0.0           0.0  "
      ]
     },
     "execution_count": 2,
     "metadata": {},
     "output_type": "execute_result"
    }
   ],
   "source": [
    "stock = \"AAPL\"\n",
    "ticker = yf.Ticker(stock)\n",
    "data = ticker.history(interval=\"1d\", period=\"max\")\n",
    "\n",
    "print(\"Number of rows: \", len(data))\n",
    "data.head(5)"
   ]
  },
  {
   "cell_type": "markdown",
   "id": "e99932bc-34c3-462c-94b4-0526c1642bac",
   "metadata": {},
   "source": [
    "## Clean data"
   ]
  },
  {
   "cell_type": "code",
   "execution_count": 3,
   "id": "91e74cb9-8a49-46a0-abc3-011e73e4b3eb",
   "metadata": {},
   "outputs": [],
   "source": [
    "data = data.reset_index()\n",
    "data = data.drop([\"Date\", \"Dividends\", \"Stock Splits\"], axis=1)\n",
    "data = data[(data != 0).all(axis=1)]"
   ]
  },
  {
   "cell_type": "markdown",
   "id": "6c5d1e46-1a53-420e-9b55-a3a4096b728e",
   "metadata": {},
   "source": [
    "## Preprocess data"
   ]
  },
  {
   "cell_type": "code",
   "execution_count": 4,
   "id": "3b8c0cf0-6b2f-4cf2-9e4f-2f09d1f7abab",
   "metadata": {},
   "outputs": [
    {
     "name": "stdout",
     "output_type": "stream",
     "text": [
      "Contains NaN: False\n",
      "Contains Inf: False\n"
     ]
    }
   ],
   "source": [
    "data = data.pct_change()\n",
    "data = data.dropna()\n",
    "data = data.to_numpy()\n",
    "\n",
    "print(\"Contains NaN:\", np.isnan(data).any())\n",
    "print(\"Contains Inf:\", np.isinf(data).any())"
   ]
  },
  {
   "cell_type": "code",
   "execution_count": 5,
   "id": "989389b4-6454-4bb4-abfc-65b6643311df",
   "metadata": {},
   "outputs": [],
   "source": [
    "scaler = MinMaxScaler((0, 1))\n",
    "data = scaler.fit_transform(data)"
   ]
  },
  {
   "cell_type": "code",
   "execution_count": 6,
   "id": "2974351f-627d-4225-a86a-d670dc21535c",
   "metadata": {},
   "outputs": [],
   "source": [
    "n_columns = 5\n",
    "n_windows = 64 \n",
    "size = len(data)\n",
    "\n",
    "X = np.zeros((size - n_windows, n_windows, n_columns))\n",
    "y = np.zeros((size - n_windows, n_columns - 1))\n",
    "\n",
    "for i in range(size - n_windows):\n",
    "    X[i] = data[i : i + n_windows]\n",
    "    y[i] = data[i + n_windows, 0: n_columns - 1]"
   ]
  },
  {
   "cell_type": "markdown",
   "id": "a1132fb1-be9f-4de1-80f8-260dbeecbfda",
   "metadata": {},
   "source": [
    "## Setup Dataset"
   ]
  },
  {
   "cell_type": "code",
   "execution_count": 7,
   "id": "55a3ce0f-c419-4eae-b667-fad86456c481",
   "metadata": {},
   "outputs": [],
   "source": [
    "class StockDataset(Dataset):\n",
    "    def __init__(self, X, y):\n",
    "        self.X = torch.tensor(X, dtype = torch.float32)\n",
    "        self.y = torch.tensor(y, dtype = torch.float32)\n",
    "\n",
    "    def __len__(self):\n",
    "        return len(self.X)\n",
    "\n",
    "    def __getitem__(self, index):\n",
    "        x = self.X[index]\n",
    "        y = self.y[index]\n",
    "        return x, y\n",
    "\n",
    "dataset = StockDataset(X, y)"
   ]
  },
  {
   "cell_type": "markdown",
   "id": "824442c0-f5f6-4541-80e8-88175d34ed0b",
   "metadata": {},
   "source": [
    "## Setup DataLoader"
   ]
  },
  {
   "cell_type": "code",
   "execution_count": 8,
   "id": "f234838a-f452-4f0e-b4b2-6f92fddd1716",
   "metadata": {},
   "outputs": [],
   "source": [
    "p_split = 0.8\n",
    "batch_size = 32\n",
    "\n",
    "train_dataset, test_dataset = torch.utils.data.random_split(dataset, [p_split, 1 - p_split])\n",
    "train_loader = DataLoader(train_dataset, batch_size=batch_size, shuffle=True)\n",
    "test_loader = DataLoader(test_dataset, batch_size=batch_size, shuffle=False)"
   ]
  },
  {
   "cell_type": "markdown",
   "id": "ea554e29-486c-4188-b520-d3d7a9a889ce",
   "metadata": {},
   "source": [
    "## Model"
   ]
  },
  {
   "cell_type": "code",
   "execution_count": 9,
   "id": "da3a6136-8d5a-4ee5-a58f-44d686f77cfe",
   "metadata": {},
   "outputs": [],
   "source": []
  },
  {
   "cell_type": "code",
   "execution_count": 10,
   "id": "ee5e29ce-0652-4221-a7b2-58138429bd02",
   "metadata": {},
   "outputs": [],
   "source": [
    "criterion = nn.MSELoss()\n",
    "optimizer = torch.optim.Adam(model.parameters(), lr=0.001)"
   ]
  },
  {
   "cell_type": "code",
   "execution_count": 11,
   "id": "b7ed02f7-4cc0-45f6-9ff2-ceb265d08814",
   "metadata": {},
   "outputs": [
    {
     "name": "stdout",
     "output_type": "stream",
     "text": [
      "EPOCH 1/10: Loss - 0.2009\n",
      "EPOCH 2/10: Loss - 0.0012\n",
      "EPOCH 3/10: Loss - 0.0012\n",
      "EPOCH 4/10: Loss - 0.0012\n",
      "EPOCH 5/10: Loss - 0.0012\n",
      "EPOCH 6/10: Loss - 0.0012\n",
      "EPOCH 7/10: Loss - 0.0012\n",
      "EPOCH 8/10: Loss - 0.0012\n",
      "EPOCH 9/10: Loss - 0.0012\n",
      "EPOCH 10/10: Loss - 0.0012\n"
     ]
    }
   ],
   "source": [
    "n_epochs = 10\n",
    "\n",
    "model.train()\n",
    "for epoch in range(n_epochs):\n",
    "    epoch_loss = 0\n",
    "    for inputs, labels in train_loader:\n",
    "        optimizer.zero_grad()\n",
    "        outputs = model(inputs)\n",
    "        loss = criterion(outputs, labels)\n",
    "        loss.backward()\n",
    "        optimizer.step()\n",
    "        epoch_loss += loss.item()\n",
    "    print(f\"EPOCH {epoch+1}/{n_epochs}: Loss - {epoch_loss/ len(train_loader):.4f}\")"
   ]
  },
  {
   "cell_type": "code",
   "execution_count": null,
   "id": "b0389631-ab20-459c-ae4c-e42a860c8ab5",
   "metadata": {},
   "outputs": [],
   "source": []
  }
 ],
 "metadata": {
  "kernelspec": {
   "display_name": "Python 3 (ipykernel)",
   "language": "python",
   "name": "python3"
  },
  "language_info": {
   "codemirror_mode": {
    "name": "ipython",
    "version": 3
   },
   "file_extension": ".py",
   "mimetype": "text/x-python",
   "name": "python",
   "nbconvert_exporter": "python",
   "pygments_lexer": "ipython3",
   "version": "3.11.7"
  }
 },
 "nbformat": 4,
 "nbformat_minor": 5
}
