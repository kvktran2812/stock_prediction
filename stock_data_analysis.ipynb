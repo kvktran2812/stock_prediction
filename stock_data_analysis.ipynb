{
 "cells": [
  {
   "cell_type": "code",
   "execution_count": 1,
   "id": "ddebc036-d359-45e9-9cf1-ab7da34f659f",
   "metadata": {},
   "outputs": [],
   "source": [
    "import pandas as pd\n",
    "import numpy as np\n",
    "import yfinance as yf\n",
    "import matplotlib.pyplot as plt\n",
    "import seaborn as sns\n",
    "import torch\n",
    "import torch.nn as nn\n",
    "from torch.utils.data import DataLoader, Dataset\n",
    "from sklearn.preprocessing import MinMaxScaler\n",
    "from stock import *\n",
    "from sklearn.metrics import mean_absolute_error, mean_squared_error"
   ]
  },
  {
   "cell_type": "code",
   "execution_count": 2,
   "id": "8b5aa6e9-2fdd-405b-b5dc-099c71419b52",
   "metadata": {},
   "outputs": [],
   "source": [
    "name = \"AAPL\"\n",
    "ticker = yf.Ticker(name)\n",
    "data = ticker.history(interval=\"1d\", period=\"max\")\n",
    "data = data.reset_index()\n",
    "data = data.drop([\"Date\", \"Dividends\", \"Stock Splits\", \"Volume\"], axis=1)\n",
    "data = data[(data != 0).all(axis=1)]"
   ]
  },
  {
   "cell_type": "code",
   "execution_count": 14,
   "id": "fe8d3599-4ee8-4622-9a9d-4a4eb877331b",
   "metadata": {},
   "outputs": [],
   "source": [
    "size = len(data)\n",
    "\n",
    "green_candles = len(data[data[\"Open\"] < data[\"Close\"]])\n",
    "red_candles = len(data[data[\"Open\"] > data[\"Close\"]])\n",
    "\n",
    "equal_candles = len(data[data[\"Open\"] == data[\"Close\"]])"
   ]
  },
  {
   "cell_type": "code",
   "execution_count": 15,
   "id": "9fedf27d-eefc-4479-bd3d-14420f2d09d5",
   "metadata": {},
   "outputs": [
    {
     "name": "stdout",
     "output_type": "stream",
     "text": [
      "0.46071880079465416\n",
      "0.4762506772620553\n",
      "0.06303052194329059\n"
     ]
    }
   ],
   "source": [
    "print(green_candles/size)\n",
    "print(red_candles/size)\n",
    "print(equal_candles/size)"
   ]
  },
  {
   "cell_type": "code",
   "execution_count": null,
   "id": "a366a7e6-be72-41f7-9b71-e762fc8fa75b",
   "metadata": {},
   "outputs": [],
   "source": []
  }
 ],
 "metadata": {
  "kernelspec": {
   "display_name": "Python 3 (ipykernel)",
   "language": "python",
   "name": "python3"
  },
  "language_info": {
   "codemirror_mode": {
    "name": "ipython",
    "version": 3
   },
   "file_extension": ".py",
   "mimetype": "text/x-python",
   "name": "python",
   "nbconvert_exporter": "python",
   "pygments_lexer": "ipython3",
   "version": "3.11.7"
  }
 },
 "nbformat": 4,
 "nbformat_minor": 5
}
