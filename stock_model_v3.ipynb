{
 "cells": [
  {
   "cell_type": "code",
   "execution_count": 1,
   "id": "b4d41099-4bb8-42a9-93e4-0b07a0ec0f99",
   "metadata": {},
   "outputs": [],
   "source": [
    "import pandas as pd\n",
    "import numpy as np\n",
    "import yfinance as yf\n",
    "import matplotlib.pyplot as plt\n",
    "import seaborn as sns\n",
    "import torch\n",
    "import torch.nn as nn\n",
    "from torch.utils.data import DataLoader, Dataset\n",
    "from sklearn.preprocessing import MinMaxScaler\n",
    "from stock import *\n",
    "from sklearn.metrics import mean_absolute_error, mean_squared_error\n",
    "\n",
    "import mplfinance as mpf"
   ]
  },
  {
   "cell_type": "code",
   "execution_count": 7,
   "id": "7a96a45d-2636-42a5-a0a6-8d7b038bca33",
   "metadata": {},
   "outputs": [
    {
     "name": "stdout",
     "output_type": "stream",
     "text": [
      "StockModel(\n",
      "  (lstm): LSTM(5, 64, batch_first=True)\n",
      "  (relu): ReLU()\n",
      "  (fc1): Linear(in_features=64, out_features=64, bias=True)\n",
      "  (fc2): Linear(in_features=64, out_features=64, bias=True)\n",
      "  (fc3): Linear(in_features=64, out_features=64, bias=True)\n",
      "  (fc4): Linear(in_features=64, out_features=1, bias=True)\n",
      ")\n"
     ]
    }
   ],
   "source": [
    "class StockModel(nn.Module):\n",
    "    n_features = 5\n",
    "    n_layers = 1\n",
    "    \n",
    "    def __init__(self, n_windows: int = 64, output_size: int = 1):\n",
    "        super(StockModel, self).__init__()\n",
    "        self.lstm = nn.LSTM(self.n_features, n_windows, self.n_layers, batch_first=True)\n",
    "        self.relu = nn.ReLU()\n",
    "        self.fc1 = nn.Linear(n_windows, n_windows)\n",
    "        self.fc2 = nn.Linear(n_windows, n_windows)\n",
    "        self.fc3 = nn.Linear(n_windows, n_windows)\n",
    "        self.fc4 = nn.Linear(n_windows, output_size)\n",
    "\n",
    "    def forward(self, x):\n",
    "        x, _ = self.lstm(x)\n",
    "        x = x[:, -1, :]\n",
    "        x = self.fc1(x)\n",
    "        x = self.relu(x)\n",
    "        x = self.fc2(x)\n",
    "        x = self.relu(x)\n",
    "        x = self.fc3(x)\n",
    "        x = self.relu(x)\n",
    "        x = self.fc4(x)\n",
    "        return x\n",
    "\n",
    "model = StockModel()\n",
    "print(model)"
   ]
  },
  {
   "cell_type": "code",
   "execution_count": 8,
   "id": "cc8777b5-a77e-448b-9c3a-f3f84aad46a8",
   "metadata": {},
   "outputs": [
    {
     "data": {
      "text/html": [
       "<div>\n",
       "<style scoped>\n",
       "    .dataframe tbody tr th:only-of-type {\n",
       "        vertical-align: middle;\n",
       "    }\n",
       "\n",
       "    .dataframe tbody tr th {\n",
       "        vertical-align: top;\n",
       "    }\n",
       "\n",
       "    .dataframe thead th {\n",
       "        text-align: right;\n",
       "    }\n",
       "</style>\n",
       "<table border=\"1\" class=\"dataframe\">\n",
       "  <thead>\n",
       "    <tr style=\"text-align: right;\">\n",
       "      <th></th>\n",
       "      <th>Open</th>\n",
       "      <th>High</th>\n",
       "      <th>Low</th>\n",
       "      <th>Close</th>\n",
       "      <th>Volume</th>\n",
       "    </tr>\n",
       "  </thead>\n",
       "  <tbody>\n",
       "    <tr>\n",
       "      <th>0</th>\n",
       "      <td>NaN</td>\n",
       "      <td>NaN</td>\n",
       "      <td>NaN</td>\n",
       "      <td>NaN</td>\n",
       "      <td>NaN</td>\n",
       "    </tr>\n",
       "    <tr>\n",
       "      <th>1</th>\n",
       "      <td>-0.047823</td>\n",
       "      <td>-0.051945</td>\n",
       "      <td>-0.052171</td>\n",
       "      <td>-0.052171</td>\n",
       "      <td>-0.625006</td>\n",
       "    </tr>\n",
       "    <tr>\n",
       "      <th>2</th>\n",
       "      <td>-0.073063</td>\n",
       "      <td>-0.073063</td>\n",
       "      <td>-0.073398</td>\n",
       "      <td>-0.073398</td>\n",
       "      <td>-0.398879</td>\n",
       "    </tr>\n",
       "    <tr>\n",
       "      <th>3</th>\n",
       "      <td>0.019704</td>\n",
       "      <td>0.024629</td>\n",
       "      <td>0.024751</td>\n",
       "      <td>0.024751</td>\n",
       "      <td>-0.182415</td>\n",
       "    </tr>\n",
       "    <tr>\n",
       "      <th>4</th>\n",
       "      <td>0.028992</td>\n",
       "      <td>0.028853</td>\n",
       "      <td>0.028992</td>\n",
       "      <td>0.028992</td>\n",
       "      <td>-0.150298</td>\n",
       "    </tr>\n",
       "  </tbody>\n",
       "</table>\n",
       "</div>"
      ],
      "text/plain": [
       "       Open      High       Low     Close    Volume\n",
       "0       NaN       NaN       NaN       NaN       NaN\n",
       "1 -0.047823 -0.051945 -0.052171 -0.052171 -0.625006\n",
       "2 -0.073063 -0.073063 -0.073398 -0.073398 -0.398879\n",
       "3  0.019704  0.024629  0.024751  0.024751 -0.182415\n",
       "4  0.028992  0.028853  0.028992  0.028992 -0.150298"
      ]
     },
     "execution_count": 8,
     "metadata": {},
     "output_type": "execute_result"
    }
   ],
   "source": [
    "raw_data = load_raw_stock_data(\"AAPL\")\n",
    "raw_data = raw_data.pct_change()\n",
    "raw_data.head()"
   ]
  },
  {
   "cell_type": "code",
   "execution_count": null,
   "id": "c59fa29e-6bb8-472b-8437-5b50860e99b8",
   "metadata": {},
   "outputs": [],
   "source": []
  }
 ],
 "metadata": {
  "kernelspec": {
   "display_name": "Python 3 (ipykernel)",
   "language": "python",
   "name": "python3"
  },
  "language_info": {
   "codemirror_mode": {
    "name": "ipython",
    "version": 3
   },
   "file_extension": ".py",
   "mimetype": "text/x-python",
   "name": "python",
   "nbconvert_exporter": "python",
   "pygments_lexer": "ipython3",
   "version": "3.11.7"
  }
 },
 "nbformat": 4,
 "nbformat_minor": 5
}
